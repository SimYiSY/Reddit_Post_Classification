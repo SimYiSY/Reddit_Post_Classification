{
 "cells": [
  {
   "cell_type": "markdown",
   "metadata": {},
   "source": [
    "# Reddit Webscraping\n",
    "# Introduction\n",
    "## Problem Statement\n",
    "## Executive Summary\n",
    "### Content\n",
    "<br>2. Data Cleaning\n",
    "<br>3. Preprocessing of text data\n",
    "<br>4. EDA"
   ]
  },
  {
   "cell_type": "markdown",
   "metadata": {},
   "source": [
    "# 2. Data Cleaning"
   ]
  },
  {
   "cell_type": "code",
   "execution_count": 1,
   "metadata": {},
   "outputs": [],
   "source": [
    "import pandas as pd\n",
    "import numpy as np\n",
    "import matplotlib.pyplot as plt\n",
    "\n",
    "from sklearn.model_selection import train_test_split, GridSearchCV\n",
    "from bs4 import BeautifulSoup\n",
    "import re\n",
    "from nltk.corpus import stopwords\n",
    "from nltk.stem import WordNetLemmatizer\n",
    "from nltk.stem.porter import PorterStemmer\n",
    "from nltk.tokenize import RegexpTokenizer\n",
    "\n",
    "from sklearn.feature_extraction.text import CountVectorizer, TfidfVectorizer, HashingVectorizer\n",
    "from sklearn.linear_model import LogisticRegression\n",
    "from sklearn.pipeline import Pipeline\n",
    "from sklearn.naive_bayes import MultinomialNB\n",
    "from sklearn.metrics import confusion_matrix, roc_auc_score, plot_roc_curve\n",
    "from sklearn.neighbors import KNeighborsClassifier"
   ]
  },
  {
   "cell_type": "markdown",
   "metadata": {},
   "source": [
    "## 2.1 Manual Inspection of data"
   ]
  },
  {
   "cell_type": "code",
   "execution_count": 4,
   "metadata": {},
   "outputs": [],
   "source": [
    "thread_1 = 'relationship_advice'\n",
    "thread_2 = 'BreakUps'\n",
    "\n",
    "df_t1= pd.read_csv('../data/' + (str(thread_1)) + '.csv')\n",
    "df_t2 = pd.read_csv('../data/' + (str(thread_2)) + '.csv')"
   ]
  },
  {
   "cell_type": "code",
   "execution_count": 3,
   "metadata": {},
   "outputs": [
    {
     "data": {
      "text/html": [
       "<div>\n",
       "<style scoped>\n",
       "    .dataframe tbody tr th:only-of-type {\n",
       "        vertical-align: middle;\n",
       "    }\n",
       "\n",
       "    .dataframe tbody tr th {\n",
       "        vertical-align: top;\n",
       "    }\n",
       "\n",
       "    .dataframe thead th {\n",
       "        text-align: right;\n",
       "    }\n",
       "</style>\n",
       "<table border=\"1\" class=\"dataframe\">\n",
       "  <thead>\n",
       "    <tr style=\"text-align: right;\">\n",
       "      <th></th>\n",
       "      <th>approved_at_utc</th>\n",
       "      <th>subreddit</th>\n",
       "      <th>selftext</th>\n",
       "      <th>author_fullname</th>\n",
       "      <th>saved</th>\n",
       "      <th>mod_reason_title</th>\n",
       "      <th>gilded</th>\n",
       "      <th>clicked</th>\n",
       "      <th>title</th>\n",
       "      <th>link_flair_richtext</th>\n",
       "      <th>...</th>\n",
       "      <th>permalink</th>\n",
       "      <th>parent_whitelist_status</th>\n",
       "      <th>stickied</th>\n",
       "      <th>url</th>\n",
       "      <th>subreddit_subscribers</th>\n",
       "      <th>created_utc</th>\n",
       "      <th>num_crossposts</th>\n",
       "      <th>media</th>\n",
       "      <th>is_video</th>\n",
       "      <th>author_cakeday</th>\n",
       "    </tr>\n",
       "  </thead>\n",
       "  <tbody>\n",
       "    <tr>\n",
       "      <th>0</th>\n",
       "      <td>NaN</td>\n",
       "      <td>relationship_advice</td>\n",
       "      <td>**TL;DR on Throwaways:** If you wish to reques...</td>\n",
       "      <td>t2_4det0</td>\n",
       "      <td>False</td>\n",
       "      <td>NaN</td>\n",
       "      <td>0</td>\n",
       "      <td>False</td>\n",
       "      <td>[meta] It's not required, but if you make a ne...</td>\n",
       "      <td>[]</td>\n",
       "      <td>...</td>\n",
       "      <td>/r/relationship_advice/comments/d3okss/meta_it...</td>\n",
       "      <td>all_ads</td>\n",
       "      <td>True</td>\n",
       "      <td>https://www.reddit.com/r/relationship_advice/c...</td>\n",
       "      <td>3883628</td>\n",
       "      <td>1.568378e+09</td>\n",
       "      <td>7</td>\n",
       "      <td>NaN</td>\n",
       "      <td>False</td>\n",
       "      <td>NaN</td>\n",
       "    </tr>\n",
       "    <tr>\n",
       "      <th>1</th>\n",
       "      <td>NaN</td>\n",
       "      <td>relationship_advice</td>\n",
       "      <td>We get the stress from social isolation is bad...</td>\n",
       "      <td>t2_4det0</td>\n",
       "      <td>False</td>\n",
       "      <td>NaN</td>\n",
       "      <td>0</td>\n",
       "      <td>False</td>\n",
       "      <td>[meta] One (1) day bans for moral judgment pos...</td>\n",
       "      <td>[]</td>\n",
       "      <td>...</td>\n",
       "      <td>/r/relationship_advice/comments/g7ukh7/meta_on...</td>\n",
       "      <td>all_ads</td>\n",
       "      <td>True</td>\n",
       "      <td>https://www.reddit.com/r/relationship_advice/c...</td>\n",
       "      <td>3883628</td>\n",
       "      <td>1.587826e+09</td>\n",
       "      <td>0</td>\n",
       "      <td>NaN</td>\n",
       "      <td>False</td>\n",
       "      <td>NaN</td>\n",
       "    </tr>\n",
       "    <tr>\n",
       "      <th>2</th>\n",
       "      <td>NaN</td>\n",
       "      <td>relationship_advice</td>\n",
       "      <td>opps I made a typo in the title sorry! I meant...</td>\n",
       "      <td>t2_7wa6olo9</td>\n",
       "      <td>False</td>\n",
       "      <td>NaN</td>\n",
       "      <td>0</td>\n",
       "      <td>False</td>\n",
       "      <td>My (27/F) cousin (27/F) confessed that she was...</td>\n",
       "      <td>[]</td>\n",
       "      <td>...</td>\n",
       "      <td>/r/relationship_advice/comments/iiscjb/my_27f_...</td>\n",
       "      <td>all_ads</td>\n",
       "      <td>False</td>\n",
       "      <td>https://www.reddit.com/r/relationship_advice/c...</td>\n",
       "      <td>3883628</td>\n",
       "      <td>1.598708e+09</td>\n",
       "      <td>0</td>\n",
       "      <td>NaN</td>\n",
       "      <td>False</td>\n",
       "      <td>NaN</td>\n",
       "    </tr>\n",
       "    <tr>\n",
       "      <th>3</th>\n",
       "      <td>NaN</td>\n",
       "      <td>relationship_advice</td>\n",
       "      <td>I (F, 32) have been married to my husband (M,3...</td>\n",
       "      <td>t2_60t4vdow</td>\n",
       "      <td>False</td>\n",
       "      <td>NaN</td>\n",
       "      <td>0</td>\n",
       "      <td>False</td>\n",
       "      <td>My mom is accusing my husband of abusing our d...</td>\n",
       "      <td>[]</td>\n",
       "      <td>...</td>\n",
       "      <td>/r/relationship_advice/comments/iiwkf7/my_mom_...</td>\n",
       "      <td>all_ads</td>\n",
       "      <td>False</td>\n",
       "      <td>https://www.reddit.com/r/relationship_advice/c...</td>\n",
       "      <td>3883628</td>\n",
       "      <td>1.598723e+09</td>\n",
       "      <td>0</td>\n",
       "      <td>NaN</td>\n",
       "      <td>False</td>\n",
       "      <td>NaN</td>\n",
       "    </tr>\n",
       "    <tr>\n",
       "      <th>4</th>\n",
       "      <td>NaN</td>\n",
       "      <td>relationship_advice</td>\n",
       "      <td>He said the hard r while reading a message tha...</td>\n",
       "      <td>t2_7q6y01ro</td>\n",
       "      <td>False</td>\n",
       "      <td>NaN</td>\n",
       "      <td>0</td>\n",
       "      <td>False</td>\n",
       "      <td>Broke up with my boyfriend because he’s racist</td>\n",
       "      <td>[]</td>\n",
       "      <td>...</td>\n",
       "      <td>/r/relationship_advice/comments/ij4pj2/broke_u...</td>\n",
       "      <td>all_ads</td>\n",
       "      <td>False</td>\n",
       "      <td>https://www.reddit.com/r/relationship_advice/c...</td>\n",
       "      <td>3883628</td>\n",
       "      <td>1.598753e+09</td>\n",
       "      <td>0</td>\n",
       "      <td>NaN</td>\n",
       "      <td>False</td>\n",
       "      <td>NaN</td>\n",
       "    </tr>\n",
       "  </tbody>\n",
       "</table>\n",
       "<p>5 rows × 103 columns</p>\n",
       "</div>"
      ],
      "text/plain": [
       "   approved_at_utc            subreddit  \\\n",
       "0              NaN  relationship_advice   \n",
       "1              NaN  relationship_advice   \n",
       "2              NaN  relationship_advice   \n",
       "3              NaN  relationship_advice   \n",
       "4              NaN  relationship_advice   \n",
       "\n",
       "                                            selftext author_fullname  saved  \\\n",
       "0  **TL;DR on Throwaways:** If you wish to reques...        t2_4det0  False   \n",
       "1  We get the stress from social isolation is bad...        t2_4det0  False   \n",
       "2  opps I made a typo in the title sorry! I meant...     t2_7wa6olo9  False   \n",
       "3  I (F, 32) have been married to my husband (M,3...     t2_60t4vdow  False   \n",
       "4  He said the hard r while reading a message tha...     t2_7q6y01ro  False   \n",
       "\n",
       "   mod_reason_title  gilded  clicked  \\\n",
       "0               NaN       0    False   \n",
       "1               NaN       0    False   \n",
       "2               NaN       0    False   \n",
       "3               NaN       0    False   \n",
       "4               NaN       0    False   \n",
       "\n",
       "                                               title link_flair_richtext  ...  \\\n",
       "0  [meta] It's not required, but if you make a ne...                  []  ...   \n",
       "1  [meta] One (1) day bans for moral judgment pos...                  []  ...   \n",
       "2  My (27/F) cousin (27/F) confessed that she was...                  []  ...   \n",
       "3  My mom is accusing my husband of abusing our d...                  []  ...   \n",
       "4     Broke up with my boyfriend because he’s racist                  []  ...   \n",
       "\n",
       "                                           permalink  parent_whitelist_status  \\\n",
       "0  /r/relationship_advice/comments/d3okss/meta_it...                  all_ads   \n",
       "1  /r/relationship_advice/comments/g7ukh7/meta_on...                  all_ads   \n",
       "2  /r/relationship_advice/comments/iiscjb/my_27f_...                  all_ads   \n",
       "3  /r/relationship_advice/comments/iiwkf7/my_mom_...                  all_ads   \n",
       "4  /r/relationship_advice/comments/ij4pj2/broke_u...                  all_ads   \n",
       "\n",
       "   stickied                                                url  \\\n",
       "0      True  https://www.reddit.com/r/relationship_advice/c...   \n",
       "1      True  https://www.reddit.com/r/relationship_advice/c...   \n",
       "2     False  https://www.reddit.com/r/relationship_advice/c...   \n",
       "3     False  https://www.reddit.com/r/relationship_advice/c...   \n",
       "4     False  https://www.reddit.com/r/relationship_advice/c...   \n",
       "\n",
       "   subreddit_subscribers   created_utc  num_crossposts media  is_video  \\\n",
       "0                3883628  1.568378e+09               7   NaN     False   \n",
       "1                3883628  1.587826e+09               0   NaN     False   \n",
       "2                3883628  1.598708e+09               0   NaN     False   \n",
       "3                3883628  1.598723e+09               0   NaN     False   \n",
       "4                3883628  1.598753e+09               0   NaN     False   \n",
       "\n",
       "  author_cakeday  \n",
       "0            NaN  \n",
       "1            NaN  \n",
       "2            NaN  \n",
       "3            NaN  \n",
       "4            NaN  \n",
       "\n",
       "[5 rows x 103 columns]"
      ]
     },
     "execution_count": 3,
     "metadata": {},
     "output_type": "execute_result"
    }
   ],
   "source": [
    "df_t1.head()"
   ]
  },
  {
   "cell_type": "code",
   "execution_count": 4,
   "metadata": {},
   "outputs": [
    {
     "data": {
      "text/html": [
       "<div>\n",
       "<style scoped>\n",
       "    .dataframe tbody tr th:only-of-type {\n",
       "        vertical-align: middle;\n",
       "    }\n",
       "\n",
       "    .dataframe tbody tr th {\n",
       "        vertical-align: top;\n",
       "    }\n",
       "\n",
       "    .dataframe thead th {\n",
       "        text-align: right;\n",
       "    }\n",
       "</style>\n",
       "<table border=\"1\" class=\"dataframe\">\n",
       "  <thead>\n",
       "    <tr style=\"text-align: right;\">\n",
       "      <th></th>\n",
       "      <th>approved_at_utc</th>\n",
       "      <th>subreddit</th>\n",
       "      <th>selftext</th>\n",
       "      <th>author_fullname</th>\n",
       "      <th>saved</th>\n",
       "      <th>mod_reason_title</th>\n",
       "      <th>gilded</th>\n",
       "      <th>clicked</th>\n",
       "      <th>title</th>\n",
       "      <th>link_flair_richtext</th>\n",
       "      <th>...</th>\n",
       "      <th>stickied</th>\n",
       "      <th>url</th>\n",
       "      <th>subreddit_subscribers</th>\n",
       "      <th>created_utc</th>\n",
       "      <th>num_crossposts</th>\n",
       "      <th>media</th>\n",
       "      <th>is_video</th>\n",
       "      <th>media_metadata</th>\n",
       "      <th>author_cakeday</th>\n",
       "      <th>poll_data</th>\n",
       "    </tr>\n",
       "  </thead>\n",
       "  <tbody>\n",
       "    <tr>\n",
       "      <th>0</th>\n",
       "      <td>NaN</td>\n",
       "      <td>BreakUps</td>\n",
       "      <td>Hey, I really miss you. I’m sorry for texting ...</td>\n",
       "      <td>t2_7uvvphr0</td>\n",
       "      <td>False</td>\n",
       "      <td>NaN</td>\n",
       "      <td>0</td>\n",
       "      <td>False</td>\n",
       "      <td>Drunk text! Posting on here instead of actuall...</td>\n",
       "      <td>[]</td>\n",
       "      <td>...</td>\n",
       "      <td>False</td>\n",
       "      <td>https://www.reddit.com/r/BreakUps/comments/ij4...</td>\n",
       "      <td>130178</td>\n",
       "      <td>1.598752e+09</td>\n",
       "      <td>0</td>\n",
       "      <td>NaN</td>\n",
       "      <td>False</td>\n",
       "      <td>NaN</td>\n",
       "      <td>NaN</td>\n",
       "      <td>NaN</td>\n",
       "    </tr>\n",
       "    <tr>\n",
       "      <th>1</th>\n",
       "      <td>NaN</td>\n",
       "      <td>BreakUps</td>\n",
       "      <td>I no longer have to compromise. I can do exact...</td>\n",
       "      <td>t2_aooid</td>\n",
       "      <td>False</td>\n",
       "      <td>NaN</td>\n",
       "      <td>0</td>\n",
       "      <td>False</td>\n",
       "      <td>Some positives about being single</td>\n",
       "      <td>[]</td>\n",
       "      <td>...</td>\n",
       "      <td>False</td>\n",
       "      <td>https://www.reddit.com/r/BreakUps/comments/ij2...</td>\n",
       "      <td>130178</td>\n",
       "      <td>1.598742e+09</td>\n",
       "      <td>1</td>\n",
       "      <td>NaN</td>\n",
       "      <td>False</td>\n",
       "      <td>NaN</td>\n",
       "      <td>NaN</td>\n",
       "      <td>NaN</td>\n",
       "    </tr>\n",
       "    <tr>\n",
       "      <th>2</th>\n",
       "      <td>NaN</td>\n",
       "      <td>BreakUps</td>\n",
       "      <td>Everyday I hear the statement, \"I would do any...</td>\n",
       "      <td>t2_4i38okh</td>\n",
       "      <td>False</td>\n",
       "      <td>NaN</td>\n",
       "      <td>0</td>\n",
       "      <td>False</td>\n",
       "      <td>Why trauma (Breakup) is a good thing</td>\n",
       "      <td>[]</td>\n",
       "      <td>...</td>\n",
       "      <td>False</td>\n",
       "      <td>https://www.reddit.com/r/BreakUps/comments/ij5...</td>\n",
       "      <td>130178</td>\n",
       "      <td>1.598754e+09</td>\n",
       "      <td>0</td>\n",
       "      <td>NaN</td>\n",
       "      <td>False</td>\n",
       "      <td>NaN</td>\n",
       "      <td>NaN</td>\n",
       "      <td>NaN</td>\n",
       "    </tr>\n",
       "    <tr>\n",
       "      <th>3</th>\n",
       "      <td>NaN</td>\n",
       "      <td>BreakUps</td>\n",
       "      <td>I can’t touch myself, intimately or otherwise,...</td>\n",
       "      <td>t2_39eluamz</td>\n",
       "      <td>False</td>\n",
       "      <td>NaN</td>\n",
       "      <td>0</td>\n",
       "      <td>False</td>\n",
       "      <td>I can’t take it.</td>\n",
       "      <td>[]</td>\n",
       "      <td>...</td>\n",
       "      <td>False</td>\n",
       "      <td>https://www.reddit.com/r/BreakUps/comments/ij3...</td>\n",
       "      <td>130178</td>\n",
       "      <td>1.598747e+09</td>\n",
       "      <td>0</td>\n",
       "      <td>NaN</td>\n",
       "      <td>False</td>\n",
       "      <td>NaN</td>\n",
       "      <td>NaN</td>\n",
       "      <td>NaN</td>\n",
       "    </tr>\n",
       "    <tr>\n",
       "      <th>4</th>\n",
       "      <td>NaN</td>\n",
       "      <td>BreakUps</td>\n",
       "      <td>\\nDon’t ask them back when they showed you the...</td>\n",
       "      <td>t2_4euwc4gp</td>\n",
       "      <td>False</td>\n",
       "      <td>NaN</td>\n",
       "      <td>0</td>\n",
       "      <td>False</td>\n",
       "      <td>You’re being selfish by holding on to your ex.</td>\n",
       "      <td>[]</td>\n",
       "      <td>...</td>\n",
       "      <td>False</td>\n",
       "      <td>https://www.reddit.com/r/BreakUps/comments/ij7...</td>\n",
       "      <td>130178</td>\n",
       "      <td>1.598764e+09</td>\n",
       "      <td>0</td>\n",
       "      <td>NaN</td>\n",
       "      <td>False</td>\n",
       "      <td>NaN</td>\n",
       "      <td>NaN</td>\n",
       "      <td>NaN</td>\n",
       "    </tr>\n",
       "  </tbody>\n",
       "</table>\n",
       "<p>5 rows × 105 columns</p>\n",
       "</div>"
      ],
      "text/plain": [
       "   approved_at_utc subreddit  \\\n",
       "0              NaN  BreakUps   \n",
       "1              NaN  BreakUps   \n",
       "2              NaN  BreakUps   \n",
       "3              NaN  BreakUps   \n",
       "4              NaN  BreakUps   \n",
       "\n",
       "                                            selftext author_fullname  saved  \\\n",
       "0  Hey, I really miss you. I’m sorry for texting ...     t2_7uvvphr0  False   \n",
       "1  I no longer have to compromise. I can do exact...        t2_aooid  False   \n",
       "2  Everyday I hear the statement, \"I would do any...      t2_4i38okh  False   \n",
       "3  I can’t touch myself, intimately or otherwise,...     t2_39eluamz  False   \n",
       "4  \\nDon’t ask them back when they showed you the...     t2_4euwc4gp  False   \n",
       "\n",
       "   mod_reason_title  gilded  clicked  \\\n",
       "0               NaN       0    False   \n",
       "1               NaN       0    False   \n",
       "2               NaN       0    False   \n",
       "3               NaN       0    False   \n",
       "4               NaN       0    False   \n",
       "\n",
       "                                               title link_flair_richtext  ...  \\\n",
       "0  Drunk text! Posting on here instead of actuall...                  []  ...   \n",
       "1                  Some positives about being single                  []  ...   \n",
       "2               Why trauma (Breakup) is a good thing                  []  ...   \n",
       "3                                   I can’t take it.                  []  ...   \n",
       "4     You’re being selfish by holding on to your ex.                  []  ...   \n",
       "\n",
       "  stickied                                                url  \\\n",
       "0    False  https://www.reddit.com/r/BreakUps/comments/ij4...   \n",
       "1    False  https://www.reddit.com/r/BreakUps/comments/ij2...   \n",
       "2    False  https://www.reddit.com/r/BreakUps/comments/ij5...   \n",
       "3    False  https://www.reddit.com/r/BreakUps/comments/ij3...   \n",
       "4    False  https://www.reddit.com/r/BreakUps/comments/ij7...   \n",
       "\n",
       "   subreddit_subscribers   created_utc  num_crossposts  media  is_video  \\\n",
       "0                 130178  1.598752e+09               0    NaN     False   \n",
       "1                 130178  1.598742e+09               1    NaN     False   \n",
       "2                 130178  1.598754e+09               0    NaN     False   \n",
       "3                 130178  1.598747e+09               0    NaN     False   \n",
       "4                 130178  1.598764e+09               0    NaN     False   \n",
       "\n",
       "  media_metadata  author_cakeday poll_data  \n",
       "0            NaN             NaN       NaN  \n",
       "1            NaN             NaN       NaN  \n",
       "2            NaN             NaN       NaN  \n",
       "3            NaN             NaN       NaN  \n",
       "4            NaN             NaN       NaN  \n",
       "\n",
       "[5 rows x 105 columns]"
      ]
     },
     "execution_count": 4,
     "metadata": {},
     "output_type": "execute_result"
    }
   ],
   "source": [
    "df_t2.head()"
   ]
  },
  {
   "cell_type": "code",
   "execution_count": 5,
   "metadata": {},
   "outputs": [
    {
     "name": "stdout",
     "output_type": "stream",
     "text": [
      "No.of duplciated post in Thread relationship_advice: 0\n",
      "No.of duplciated post in Thread BreakUps: 0\n"
     ]
    }
   ],
   "source": [
    "print(f'No.of duplciated post in Thread {thread_1}: {df_t1.duplicated().sum()}')\n",
    "print(f'No.of duplciated post in Thread {thread_2}: {df_t2.duplicated().sum()}')"
   ]
  },
  {
   "cell_type": "code",
   "execution_count": 6,
   "metadata": {},
   "outputs": [
    {
     "name": "stdout",
     "output_type": "stream",
     "text": [
      "No. of rows in Thread relationship_advice: 995\n",
      "No. of rows in Thread BreakUps: 998\n"
     ]
    }
   ],
   "source": [
    "print(f'No. of rows in Thread {thread_1}: {df_t1.shape[0]}')\n",
    "print(f'No. of rows in Thread {thread_2}: {df_t2.shape[0]}')"
   ]
  },
  {
   "cell_type": "code",
   "execution_count": 7,
   "metadata": {},
   "outputs": [
    {
     "name": "stdout",
     "output_type": "stream",
     "text": [
      " Total No. of rows in DataFrame: 1993\n"
     ]
    },
    {
     "data": {
      "text/plain": [
       "BreakUps               998\n",
       "relationship_advice    995\n",
       "Name: subreddit, dtype: int64"
      ]
     },
     "execution_count": 7,
     "metadata": {},
     "output_type": "execute_result"
    }
   ],
   "source": [
    "df = pd.concat([df_t1,df_t2])[['subreddit', 'selftext']] # combining both dataframe together, using only relevent columns\n",
    "print(f' Total No. of rows in DataFrame: {df.shape[0]}')\n",
    "df.subreddit.value_counts()"
   ]
  },
  {
   "cell_type": "code",
   "execution_count": 8,
   "metadata": {},
   "outputs": [
    {
     "data": {
      "text/plain": [
       "0    998\n",
       "1    995\n",
       "Name: subreddit, dtype: int64"
      ]
     },
     "execution_count": 8,
     "metadata": {},
     "output_type": "execute_result"
    }
   ],
   "source": [
    "#setting target variable as binary, 1 for thread 1, 0 for thread 2\n",
    "df['subreddit'] = df['subreddit'].map({thread_1 : 1, thread_2: 0}) \n",
    "\n",
    "#resetting index\n",
    "df.reset_index(drop=True, inplace = True)\n",
    "df.subreddit.value_counts()"
   ]
  },
  {
   "cell_type": "code",
   "execution_count": 9,
   "metadata": {},
   "outputs": [
    {
     "data": {
      "text/plain": [
       "subreddit     0\n",
       "selftext     60\n",
       "dtype: int64"
      ]
     },
     "execution_count": 9,
     "metadata": {},
     "output_type": "execute_result"
    }
   ],
   "source": [
    "#checking of null values\n",
    "df.isna().sum()"
   ]
  },
  {
   "cell_type": "code",
   "execution_count": 10,
   "metadata": {},
   "outputs": [
    {
     "name": "stdout",
     "output_type": "stream",
     "text": [
      "Null values left in df: 0\n",
      "Number of rows left: 1933\n"
     ]
    }
   ],
   "source": [
    "df.dropna(inplace = True)\n",
    "print(f'Null values left in df: {df.isna().sum().sum()}')\n",
    "print(f'Number of rows left: {df.shape[0]}')"
   ]
  },
  {
   "cell_type": "markdown",
   "metadata": {},
   "source": [
    "## 2.2 Creating Bag-Of-Words model\n",
    "### 2.2.1 Train test split data"
   ]
  },
  {
   "cell_type": "code",
   "execution_count": 11,
   "metadata": {},
   "outputs": [],
   "source": [
    "#Train test split the data\n",
    "X_train, X_test, y_train, y_test = train_test_split(df['selftext'],\n",
    "                                                    df['subreddit'],\n",
    "                                                    test_size = 0.2, \n",
    "                                                    random_state = 42,\n",
    "                                                    stratify = df['subreddit'])"
   ]
  },
  {
   "cell_type": "code",
   "execution_count": 12,
   "metadata": {},
   "outputs": [
    {
     "name": "stdout",
     "output_type": "stream",
     "text": [
      "X_train rows: 1546, X_test rows: 387\n",
      "y_train rows: 1546, y_test rows: 387\n"
     ]
    }
   ],
   "source": [
    "print(f'X_train rows: {X_train.shape[0]}, X_test rows: {X_test.shape[0]}')\n",
    "print(f'y_train rows: {y_train.shape[0]}, y_test rows: {y_test.shape[0]}')"
   ]
  },
  {
   "cell_type": "code",
   "execution_count": 13,
   "metadata": {},
   "outputs": [
    {
     "data": {
      "text/plain": [
       "755     Hey guys, I used a throwaway because my bf use...\n",
       "1208    Got dumped very recently and it's been a very ...\n",
       "67      So, I've been hospitalized for quite a while a...\n",
       "1662    My world seems so empty without you. I have wo...\n",
       "859     For starters... I have struggled with severe d...\n",
       "Name: selftext, dtype: object"
      ]
     },
     "execution_count": 13,
     "metadata": {},
     "output_type": "execute_result"
    }
   ],
   "source": [
    "X_train.head()"
   ]
  },
  {
   "cell_type": "code",
   "execution_count": 14,
   "metadata": {},
   "outputs": [
    {
     "data": {
      "text/plain": [
       "755"
      ]
     },
     "execution_count": 14,
     "metadata": {},
     "output_type": "execute_result"
    }
   ],
   "source": [
    "X_train.index[0]"
   ]
  },
  {
   "cell_type": "code",
   "execution_count": 15,
   "metadata": {},
   "outputs": [
    {
     "data": {
      "text/plain": [
       "'Hey guys, I used a throwaway because my bf uses Reddit too.\\nSo, without going into details, I’m just lost at how to deal with this.\\nMy boyfriend has stated, that recent and somewhat inconsistent behavior through out our relationship (2+ years) has been a problem for him. We’ve talked about this a lot and he also agreed that I’ve improved a lot, but recently there’s been many things he sees as ‘problems’ in our relationship. I’m trying my best to accommodate to him, because I think he’s right in what he ‘wants’. This sounds like super controlling, but it’s more about “don’t yell, please just tell me you need time to cool down and we talk about this later” stuff. I’m pretty emotional and not always in a good state of mind so I see that I’ve not been treating him properly. I really don’t want to unload my frustration on him, but sometimes I can’t help but snap at him even if he didn’t do anything wrong.\\nIn these times I apologise as soon as I realise I’ve crossed a line, but he said he’s just tired of it and thinks about breaking up about this. He still recognizes, that I’ve improved and am working on this for his sake though, so I dunno.\\n(I probably need to add here, that I’m not ‘screaming at him’ but I do get a bit louder or defensive/snappy)\\nI’m depressed (it’s diagnosed and I’m in therapy) and I  guess I’m just really hard to deal with? \\n\\nTo be honest I’m just lost right Now. Every time we talk/speak or text I am constantly in fear he’s gonna break up with me. I feel like I’m walking on eggshells and it’s making me really anxious. While I want to improve and try to help him feel comfortable with our relationship my own mental health and comfort is suffering.\\nI’m seeking out help because my next therapy appointment is in more than a week and I just don’t know if I should say anything at all. How should I approach this? Should I deal with this myself? Is this a “me problem”? Is there something I could tell him without making him more uncomfortable? Should I tell him at all?\\n\\nMaybe I just needed to type this out and maybe talk about possibilities with someone else. Sorry for everyone who has read my rambling. Please help me :( I’m just really scared\\n\\nTL;DR: Boyfriend feels uncomfortable and unhappy in our relationship, I’m trying my best to get better and make him feel satisfied. It’s straining my mental health and I don’t know what to do besides do my best.'"
      ]
     },
     "execution_count": 15,
     "metadata": {},
     "output_type": "execute_result"
    }
   ],
   "source": [
    "X_train[X_train.index[0]] #selecting first index row of train text"
   ]
  },
  {
   "cell_type": "markdown",
   "metadata": {},
   "source": [
    "### 2.2.2 Removing HTML Features"
   ]
  },
  {
   "cell_type": "code",
   "execution_count": 16,
   "metadata": {},
   "outputs": [
    {
     "name": "stdout",
     "output_type": "stream",
     "text": [
      "Before\n",
      "Hey guys, I used a throwaway because my bf uses Reddit too.\n",
      "So, without going into details, I’m just lost at how to deal with this.\n",
      "My boyfriend has stated, that recent and somewhat inconsistent behavior through out our relationship (2+ years) has been a problem for him. We’ve talked about this a lot and he also agreed that I’ve improved a lot, but recently there’s been many things he sees as ‘problems’ in our relationship. I’m trying my best to accommodate to him, because I think he’s right in what he ‘wants’. This sounds like super controlling, but it’s more about “don’t yell, please just tell me you need time to cool down and we talk about this later” stuff. I’m pretty emotional and not always in a good state of mind so I see that I’ve not been treating him properly. I really don’t want to unload my frustration on him, but sometimes I can’t help but snap at him even if he didn’t do anything wrong.\n",
      "In these times I apologise as soon as I realise I’ve crossed a line, but he said he’s just tired of it and thinks about breaking up about this. He still recognizes, that I’ve improved and am working on this for his sake though, so I dunno.\n",
      "(I probably need to add here, that I’m not ‘screaming at him’ but I do get a bit louder or defensive/snappy)\n",
      "I’m depressed (it’s diagnosed and I’m in therapy) and I  guess I’m just really hard to deal with? \n",
      "\n",
      "To be honest I’m just lost right Now. Every time we talk/speak or text I am constantly in fear he’s gonna break up with me. I feel like I’m walking on eggshells and it’s making me really anxious. While I want to improve and try to help him feel comfortable with our relationship my own mental health and comfort is suffering.\n",
      "I’m seeking out help because my next therapy appointment is in more than a week and I just don’t know if I should say anything at all. How should I approach this? Should I deal with this myself? Is this a “me problem”? Is there something I could tell him without making him more uncomfortable? Should I tell him at all?\n",
      "\n",
      "Maybe I just needed to type this out and maybe talk about possibilities with someone else. Sorry for everyone who has read my rambling. Please help me :( I’m just really scared\n",
      "\n",
      "TL;DR: Boyfriend feels uncomfortable and unhappy in our relationship, I’m trying my best to get better and make him feel satisfied. It’s straining my mental health and I don’t know what to do besides do my best.\n",
      "\n",
      "AFTER\n",
      "Hey guys, I used a throwaway because my bf uses Reddit too.\n",
      "So, without going into details, I’m just lost at how to deal with this.\n",
      "My boyfriend has stated, that recent and somewhat inconsistent behavior through out our relationship (2+ years) has been a problem for him. We’ve talked about this a lot and he also agreed that I’ve improved a lot, but recently there’s been many things he sees as ‘problems’ in our relationship. I’m trying my best to accommodate to him, because I think he’s right in what he ‘wants’. This sounds like super controlling, but it’s more about “don’t yell, please just tell me you need time to cool down and we talk about this later” stuff. I’m pretty emotional and not always in a good state of mind so I see that I’ve not been treating him properly. I really don’t want to unload my frustration on him, but sometimes I can’t help but snap at him even if he didn’t do anything wrong.\n",
      "In these times I apologise as soon as I realise I’ve crossed a line, but he said he’s just tired of it and thinks about breaking up about this. He still recognizes, that I’ve improved and am working on this for his sake though, so I dunno.\n",
      "(I probably need to add here, that I’m not ‘screaming at him’ but I do get a bit louder or defensive/snappy)\n",
      "I’m depressed (it’s diagnosed and I’m in therapy) and I  guess I’m just really hard to deal with? \n",
      "\n",
      "To be honest I’m just lost right Now. Every time we talk/speak or text I am constantly in fear he’s gonna break up with me. I feel like I’m walking on eggshells and it’s making me really anxious. While I want to improve and try to help him feel comfortable with our relationship my own mental health and comfort is suffering.\n",
      "I’m seeking out help because my next therapy appointment is in more than a week and I just don’t know if I should say anything at all. How should I approach this? Should I deal with this myself? Is this a “me problem”? Is there something I could tell him without making him more uncomfortable? Should I tell him at all?\n",
      "\n",
      "Maybe I just needed to type this out and maybe talk about possibilities with someone else. Sorry for everyone who has read my rambling. Please help me :( I’m just really scared\n",
      "\n",
      "TL;DR: Boyfriend feels uncomfortable and unhappy in our relationship, I’m trying my best to get better and make him feel satisfied. It’s straining my mental health and I don’t know what to do besides do my best.\n"
     ]
    }
   ],
   "source": [
    "# Removing HTML features if present\n",
    "example1 = BeautifulSoup(X_train[X_train.index[0]])\n",
    "\n",
    "\n",
    "print('Before')\n",
    "print(X_train[X_train.index[0]])\n",
    "print()\n",
    "print('AFTER')\n",
    "print(example1.get_text())"
   ]
  },
  {
   "cell_type": "markdown",
   "metadata": {},
   "source": [
    "### 2.2.3 Removing numerical values"
   ]
  },
  {
   "cell_type": "code",
   "execution_count": 17,
   "metadata": {},
   "outputs": [
    {
     "data": {
      "text/plain": [
       "'Hey guys  I used a throwaway because my bf uses Re'"
      ]
     },
     "execution_count": 17,
     "metadata": {},
     "output_type": "execute_result"
    }
   ],
   "source": [
    "letters_only = re.sub('[^a-zA-Z]',\n",
    "                     \" \",\n",
    "                     example1.get_text())\n",
    "\n",
    "letters_only[:50]"
   ]
  },
  {
   "cell_type": "markdown",
   "metadata": {},
   "source": [
    "### 2.2.4 Lowercase text"
   ]
  },
  {
   "cell_type": "code",
   "execution_count": 18,
   "metadata": {},
   "outputs": [
    {
     "data": {
      "text/plain": [
       "['hey', 'guys', 'i', 'used', 'a', 'throwaway', 'because', 'my', 'bf', 'uses']"
      ]
     },
     "execution_count": 18,
     "metadata": {},
     "output_type": "execute_result"
    }
   ],
   "source": [
    "#lowercase text\n",
    "lower_case = letters_only.lower()\n",
    "#splitting text to strings\n",
    "words = lower_case.split()\n",
    "words[:10]"
   ]
  },
  {
   "cell_type": "markdown",
   "metadata": {},
   "source": [
    "### 2.2.5 Removing stopwords"
   ]
  },
  {
   "cell_type": "code",
   "execution_count": 19,
   "metadata": {},
   "outputs": [
    {
     "data": {
      "text/plain": [
       "['hey',\n",
       " 'guys',\n",
       " 'used',\n",
       " 'throwaway',\n",
       " 'bf',\n",
       " 'uses',\n",
       " 'reddit',\n",
       " 'without',\n",
       " 'going',\n",
       " 'details']"
      ]
     },
     "execution_count": 19,
     "metadata": {},
     "output_type": "execute_result"
    }
   ],
   "source": [
    "words = [w for w in words if w not in stopwords.words('english')]\n",
    "words[:10]"
   ]
  },
  {
   "cell_type": "markdown",
   "metadata": {},
   "source": [
    "### 2.2.6 Lemmatizing text"
   ]
  },
  {
   "cell_type": "code",
   "execution_count": 20,
   "metadata": {
    "scrolled": true
   },
   "outputs": [],
   "source": [
    "p_stemmer = PorterStemmer()\n",
    "words_pstem = [p_stemmer.stem(i) for i in words]"
   ]
  },
  {
   "cell_type": "code",
   "execution_count": 21,
   "metadata": {
    "scrolled": true
   },
   "outputs": [
    {
     "name": "stdout",
     "output_type": "stream",
     "text": [
      "('guys', 'guy')\n",
      "('used', 'use')\n",
      "('uses', 'use')\n",
      "('going', 'go')\n",
      "('details', 'detail')\n",
      "('stated', 'state')\n",
      "('inconsistent', 'inconsist')\n",
      "('years', 'year')\n",
      "('talked', 'talk')\n",
      "('agreed', 'agre')\n",
      "('improved', 'improv')\n",
      "('recently', 'recent')\n",
      "('many', 'mani')\n",
      "('things', 'thing')\n",
      "('sees', 'see')\n",
      "('problems', 'problem')\n",
      "('trying', 'tri')\n",
      "('accommodate', 'accommod')\n",
      "('wants', 'want')\n",
      "('sounds', 'sound')\n",
      "('controlling', 'control')\n",
      "('please', 'pleas')\n",
      "('pretty', 'pretti')\n",
      "('emotional', 'emot')\n",
      "('always', 'alway')\n",
      "('treating', 'treat')\n",
      "('properly', 'properli')\n",
      "('really', 'realli')\n",
      "('frustration', 'frustrat')\n",
      "('sometimes', 'sometim')\n",
      "('anything', 'anyth')\n",
      "('times', 'time')\n",
      "('apologise', 'apologis')\n",
      "('realise', 'realis')\n",
      "('crossed', 'cross')\n",
      "('tired', 'tire')\n",
      "('thinks', 'think')\n",
      "('breaking', 'break')\n",
      "('recognizes', 'recogn')\n",
      "('improved', 'improv')\n",
      "('working', 'work')\n",
      "('probably', 'probabl')\n",
      "('screaming', 'scream')\n",
      "('defensive', 'defens')\n",
      "('snappy', 'snappi')\n",
      "('depressed', 'depress')\n",
      "('diagnosed', 'diagnos')\n",
      "('therapy', 'therapi')\n",
      "('really', 'realli')\n",
      "('every', 'everi')\n",
      "('constantly', 'constantli')\n",
      "('walking', 'walk')\n",
      "('eggshells', 'eggshel')\n",
      "('making', 'make')\n",
      "('really', 'realli')\n",
      "('anxious', 'anxiou')\n",
      "('improve', 'improv')\n",
      "('try', 'tri')\n",
      "('comfortable', 'comfort')\n",
      "('suffering', 'suffer')\n",
      "('seeking', 'seek')\n",
      "('therapy', 'therapi')\n",
      "('appointment', 'appoint')\n",
      "('anything', 'anyth')\n",
      "('something', 'someth')\n",
      "('making', 'make')\n",
      "('uncomfortable', 'uncomfort')\n",
      "('maybe', 'mayb')\n",
      "('needed', 'need')\n",
      "('maybe', 'mayb')\n",
      "('possibilities', 'possibl')\n",
      "('someone', 'someon')\n",
      "('else', 'els')\n",
      "('sorry', 'sorri')\n",
      "('everyone', 'everyon')\n",
      "('rambling', 'rambl')\n",
      "('please', 'pleas')\n",
      "('really', 'realli')\n",
      "('scared', 'scare')\n",
      "('feels', 'feel')\n",
      "('uncomfortable', 'uncomfort')\n",
      "('unhappy', 'unhappi')\n",
      "('trying', 'tri')\n",
      "('satisfied', 'satisfi')\n",
      "('straining', 'strain')\n",
      "('besides', 'besid')\n"
     ]
    }
   ],
   "source": [
    "# Print only those lemmatized tokens that are different.\n",
    "for i in range(len(words)):\n",
    "    if words[i] != words_pstem[i]:\n",
    "        print((words[i], words_pstem[i]))"
   ]
  },
  {
   "cell_type": "markdown",
   "metadata": {},
   "source": [
    "# 3. Preprocessing of Text Data"
   ]
  },
  {
   "cell_type": "markdown",
   "metadata": {},
   "source": [
    "## 3.1 Creating function for preprocessing of text"
   ]
  },
  {
   "cell_type": "code",
   "execution_count": 22,
   "metadata": {},
   "outputs": [],
   "source": [
    "def words_cleaning(text):\n",
    "    #removing HTML Features\n",
    "    bs_text = BeautifulSoup(text).get_text()\n",
    "    \n",
    "    #Removing numerical values\n",
    "    letters_only = re.sub('[^a-zA-Z]', \" \", bs_text)\n",
    "\n",
    "    #Lowercasing text\n",
    "    lower_case = letters_only.lower() \n",
    "    \n",
    "    #splitting text to strings\n",
    "    words = lower_case.split()\n",
    "    \n",
    "    #removing Stopwords\n",
    "    lowercase_words = [w for w in words if w not in stopwords.words('english')]\n",
    "    \n",
    "    #Lemmatizing text\n",
    "    p_stemmer = PorterStemmer()\n",
    "    words_pstem = [p_stemmer.stem(i) for i in lowercase_words]\n",
    "    \n",
    "    #join words\n",
    "    join_words = (\" \".join(words_pstem))\n",
    "    \n",
    "    #convert type to object\n",
    "    return(join_words)"
   ]
  },
  {
   "cell_type": "markdown",
   "metadata": {},
   "source": [
    "### 3.1.1 Preprocessing of text for model"
   ]
  },
  {
   "cell_type": "code",
   "execution_count": 23,
   "metadata": {},
   "outputs": [
    {
     "name": "stdout",
     "output_type": "stream",
     "text": [
      "There is a total of 1933 selftext.\n"
     ]
    }
   ],
   "source": [
    "total_text = len(df.selftext)\n",
    "print(f'There is a total of {total_text} selftext.')\n",
    "\n",
    "#instantiate empty list to hold cleaned data\n",
    "clean_train_text = []\n",
    "clean_test_text = []"
   ]
  },
  {
   "cell_type": "code",
   "execution_count": 24,
   "metadata": {},
   "outputs": [
    {
     "name": "stdout",
     "output_type": "stream",
     "text": [
      "Cleaning and parsing the training set text...\n",
      "selftext 100 of 1933.\n",
      "selftext 200 of 1933.\n",
      "selftext 300 of 1933.\n",
      "selftext 400 of 1933.\n",
      "selftext 500 of 1933.\n",
      "selftext 600 of 1933.\n",
      "selftext 700 of 1933.\n",
      "selftext 800 of 1933.\n",
      "selftext 900 of 1933.\n",
      "selftext 1000 of 1933.\n",
      "selftext 1100 of 1933.\n",
      "selftext 1200 of 1933.\n",
      "selftext 1300 of 1933.\n",
      "selftext 1400 of 1933.\n",
      "selftext 1500 of 1933.\n",
      "Cleaning and parsing the testing set text...\n",
      "selftext 1600 of 1933.\n",
      "selftext 1700 of 1933.\n",
      "selftext 1800 of 1933.\n",
      "selftext 1900 of 1933.\n",
      "Cleaning complete\n"
     ]
    }
   ],
   "source": [
    "print(\"Cleaning and parsing the training set text...\")\n",
    "\n",
    "# Instantiate counter.\n",
    "j = 0\n",
    "\n",
    "# For every review in our training set...\n",
    "for train_text in X_train:\n",
    "    \n",
    "    # Convert text to words, then append to clean_train_text.\n",
    "    clean_train_text.append(words_cleaning(train_text))\n",
    "    \n",
    "    # If the index is divisible by 100, print a message.\n",
    "    if (j + 1) % 100 == 0:\n",
    "        print(f'selftext {j + 1} of {total_text}.')\n",
    "    \n",
    "    j += 1\n",
    "\n",
    "# Let's do the same for our testing set.\n",
    "print(\"Cleaning and parsing the testing set text...\")\n",
    "\n",
    "# For every review in our testing set...\n",
    "for test_text in X_test:\n",
    "    \n",
    "    # Convert review to words, then append to clean_train_reviews.\n",
    "    clean_test_text.append(words_cleaning(test_text))\n",
    "    \n",
    "    # If the index is divisible by 100, print a message.\n",
    "    if (j + 1) % 100 == 0:\n",
    "        print(f'selftext {j + 1} of {total_text}.')\n",
    "        \n",
    "    j += 1\n",
    "    \n",
    "print(f'selftext {total_text} of {total_text}.')    \n",
    "print('Cleaning complete')"
   ]
  },
  {
   "cell_type": "markdown",
   "metadata": {},
   "source": [
    "# 4. Data Exploration"
   ]
  },
  {
   "cell_type": "code",
   "execution_count": 25,
   "metadata": {},
   "outputs": [],
   "source": [
    "vectorizer = CountVectorizer(analyzer = \"word\",\n",
    "                             tokenizer = None,\n",
    "                             preprocessor = None,\n",
    "                             stop_words = None,\n",
    "                             max_features = 5000) "
   ]
  },
  {
   "cell_type": "code",
   "execution_count": 26,
   "metadata": {},
   "outputs": [],
   "source": [
    "train_data_features = vectorizer.fit_transform(clean_train_text)\n",
    "\n",
    "test_data_features = vectorizer.transform(clean_test_text)"
   ]
  },
  {
   "cell_type": "code",
   "execution_count": 27,
   "metadata": {},
   "outputs": [
    {
     "name": "stdout",
     "output_type": "stream",
     "text": [
      "(1546, 5000)\n",
      "(387, 5000)\n"
     ]
    }
   ],
   "source": [
    "print(train_data_features.shape)\n",
    "print(test_data_features.shape)"
   ]
  },
  {
   "cell_type": "code",
   "execution_count": 28,
   "metadata": {
    "scrolled": true
   },
   "outputs": [
    {
     "data": {
      "text/plain": [
       "['aa',\n",
       " 'ab',\n",
       " 'abandon',\n",
       " 'abil',\n",
       " 'abit',\n",
       " 'abiut',\n",
       " 'abl',\n",
       " 'abnorm',\n",
       " 'aborm',\n",
       " 'abort']"
      ]
     },
     "execution_count": 28,
     "metadata": {},
     "output_type": "execute_result"
    }
   ],
   "source": [
    "vocab = vectorizer.get_feature_names()\n",
    "vocab[:10]"
   ]
  },
  {
   "cell_type": "code",
   "execution_count": 29,
   "metadata": {},
   "outputs": [
    {
     "data": {
      "text/plain": [
       "want      2667\n",
       "like      2643\n",
       "feel      2622\n",
       "time      2241\n",
       "know      2155\n",
       "get       1978\n",
       "go        1759\n",
       "friend    1662\n",
       "would     1662\n",
       "thing     1589\n",
       "dtype: int64"
      ]
     },
     "execution_count": 29,
     "metadata": {},
     "output_type": "execute_result"
    }
   ],
   "source": [
    "pd.DataFrame(train_data_features.toarray(), columns = vocab).sum().sort_values(ascending = False)[:10]"
   ]
  },
  {
   "cell_type": "markdown",
   "metadata": {},
   "source": [
    "# 5. Model\n",
    "\n",
    "## 5.1 Baseline model"
   ]
  },
  {
   "cell_type": "code",
   "execution_count": 30,
   "metadata": {},
   "outputs": [
    {
     "name": "stdout",
     "output_type": "stream",
     "text": [
      "R2 score for Train data set: 0.9961190168175937\n",
      "R2 score for Test data set: 0.8372093023255814\n"
     ]
    }
   ],
   "source": [
    "# Instantiate logistic regression model.\n",
    "lr = LogisticRegression(solver = 'lbfgs', max_iter = 5000)\n",
    "\n",
    "# Fit model to training data.\n",
    "lr.fit(train_data_features, y_train)\n",
    "\n",
    "# Evaluate model on training data.\n",
    "print(f'R2 score for Train data set: {lr.score(train_data_features, y_train)}')\n",
    "\n",
    "# Evaluate model on testing data.\n",
    "print(f'R2 score for Test data set: {lr.score(test_data_features, y_test)}')"
   ]
  },
  {
   "cell_type": "markdown",
   "metadata": {},
   "source": [
    "### 5.1 comments \n",
    "the train dataset has a much higher accuracy compared to test data, suggesting a overfitting of features"
   ]
  },
  {
   "cell_type": "code",
   "execution_count": 31,
   "metadata": {},
   "outputs": [
    {
     "name": "stdout",
     "output_type": "stream",
     "text": [
      "Specificity: 0.8617\n",
      "Sensitivity: 0.8141\n"
     ]
    }
   ],
   "source": [
    "preds = lr.predict(test_data_features)\n",
    "tn, fp, fn, tp = confusion_matrix(y_test, preds).ravel()\n",
    "\n",
    "\n",
    "print(f'Specificity: {round(tn / (tn + fp),4)}')\n",
    "print(f'Sensitivity: {round(tp / (tp + fn),4)}')"
   ]
  },
  {
   "cell_type": "code",
   "execution_count": 32,
   "metadata": {},
   "outputs": [
    {
     "data": {
      "image/png": "[encoded data removed]",
      "text/plain": [
       "<Figure size 432x288 with 1 Axes>"
      ]
     },
     "metadata": {
      "needs_background": "light"
     },
     "output_type": "display_data"
    }
   ],
   "source": [
    "plot_roc_curve(lr, test_data_features, y_test);"
   ]
  },
  {
   "cell_type": "markdown",
   "metadata": {},
   "source": [
    "## 5.2 Testing with different transformer"
   ]
  },
  {
   "cell_type": "markdown",
   "metadata": {},
   "source": [
    "### 5.2.1 CountVectorizer Logistic Regression"
   ]
  },
  {
   "cell_type": "code",
   "execution_count": 33,
   "metadata": {},
   "outputs": [],
   "source": [
    "# Setting pipeline for two stages\n",
    "cvec_lr = Pipeline([\n",
    "    ('cvec', CountVectorizer()),\n",
    "    ('lr', LogisticRegression(solver = 'lbfgs', max_iter = 5000))\n",
    "])\n",
    "\n",
    "pipe_params = {\n",
    "    'cvec__max_features': [2000,3000,4000,5000],\n",
    "    'cvec__min_df': [2, 3],\n",
    "    'cvec__max_df': [.8, .85, .9],\n",
    "    'cvec__ngram_range': [(1,1), (1,2)]\n",
    "}\n",
    "\n",
    "gs_cvec_lr = GridSearchCV(cvec_lr, # what object are we optimizing?\n",
    "                  param_grid=pipe_params, # what parameters values are we searching?\n",
    "                  cv=5) # 5-fold cross-validation.\n",
    "\n",
    "gs_cvec_lr.fit(clean_train_text, y_train);"
   ]
  },
  {
   "cell_type": "markdown",
   "metadata": {},
   "source": [
    "### 5.2.2 TFIDVectorizer Logistic Regression"
   ]
  },
  {
   "cell_type": "code",
   "execution_count": 34,
   "metadata": {},
   "outputs": [],
   "source": [
    "# Setting pipeline for two stages\n",
    "tfid_lr = Pipeline([\n",
    "    ('tfid', TfidfVectorizer()),\n",
    "    ('lr', LogisticRegression(solver = 'lbfgs', max_iter = 5000))\n",
    "])\n",
    "\n",
    "pipe_params = {\n",
    "    'tfid__max_features': [2000,3000,4000,5000],\n",
    "    'tfid__min_df': [2, 3],\n",
    "    'tfid__max_df': [.8, .85,.9],\n",
    "    'tfid__ngram_range': [(1,1), (1,2)]\n",
    "}\n",
    "\n",
    "gs_tfid_lr = GridSearchCV(tfid_lr, # what object are we optimizing?\n",
    "                  param_grid=pipe_params, # what parameters values are we searching?\n",
    "                  cv=5) # 5-fold cross-validation.\n",
    "\n",
    "gs_tfid_lr.fit(clean_train_text, y_train);"
   ]
  },
  {
   "cell_type": "markdown",
   "metadata": {},
   "source": [
    "### 5.2.3 HashingVectorizer Logistic Regression"
   ]
  },
  {
   "cell_type": "code",
   "execution_count": 35,
   "metadata": {},
   "outputs": [],
   "source": [
    "# Setting pipeline for two stages\n",
    "hash_lr = Pipeline([\n",
    "    ('hash', HashingVectorizer()),\n",
    "    ('lr', LogisticRegression(solver = 'lbfgs', max_iter = 5000))\n",
    "])\n",
    "\n",
    "pipe_params = {\n",
    "    'hash__n_features': [2000,3000,4000,5000],\n",
    "    'hash__ngram_range': [(1,1), (1,2)]\n",
    "}\n",
    "\n",
    "gs_hash_lr = GridSearchCV(hash_lr, # what object are we optimizing?\n",
    "                  param_grid=pipe_params, # what parameters values are we searching?\n",
    "                  cv=5) # 5-fold cross-validation.\n",
    "\n",
    "gs_hash_lr.fit(clean_train_text, y_train);"
   ]
  },
  {
   "cell_type": "markdown",
   "metadata": {},
   "source": [
    "### 5.2.4 ROC AUC Plot (Vectorizer)"
   ]
  },
  {
   "cell_type": "code",
   "execution_count": 36,
   "metadata": {},
   "outputs": [
    {
     "data": {
      "image/png": "[encoded data removed]",
      "text/plain": [
       "<Figure size 432x288 with 1 Axes>"
      ]
     },
     "metadata": {
      "needs_background": "light"
     },
     "output_type": "display_data"
    }
   ],
   "source": [
    "cvec_lr_disp = plot_roc_curve(gs_cvec_lr, clean_test_text, y_test, name = 'CVEC LR')\n",
    "tfid_lr_disp = plot_roc_curve(gs_tfid_lr, clean_test_text, y_test, name = 'TFID LR', ax = cvec_lr_disp.ax_)\n",
    "hash_lr_disp = plot_roc_curve(gs_hash_lr, clean_test_text, y_test, name = 'HASH LR', ax = cvec_lr_disp.ax_);"
   ]
  },
  {
   "cell_type": "code",
   "execution_count": 60,
   "metadata": {},
   "outputs": [
    {
     "data": {
      "text/plain": [
       "Pipeline(steps=[('tfid',\n",
       "                 TfidfVectorizer(max_df=0.8, max_features=2000, min_df=3)),\n",
       "                ('lr', LogisticRegression(max_iter=5000))])"
      ]
     },
     "execution_count": 60,
     "metadata": {},
     "output_type": "execute_result"
    }
   ],
   "source": [
    "gs_tfid_lr.best_estimator_"
   ]
  },
  {
   "cell_type": "markdown",
   "metadata": {},
   "source": [
    "optimally, using TFID seems to return better result, will attempt to loop through different models to see which is better"
   ]
  },
  {
   "cell_type": "markdown",
   "metadata": {},
   "source": [
    "## 5.3 Testing with different models"
   ]
  },
  {
   "cell_type": "markdown",
   "metadata": {},
   "source": [
    "### 5.3.1 TFIDVectorizer KNeighborsClassifier"
   ]
  },
  {
   "cell_type": "code",
   "execution_count": 56,
   "metadata": {},
   "outputs": [],
   "source": [
    "# Setting pipeline for two stages\n",
    "tfid_knn = Pipeline([\n",
    "    ('tfid', TfidfVectorizer()),\n",
    "    ('knn', KNeighborsClassifier())\n",
    "])\n",
    "\n",
    "pipe_params = {\n",
    "    'tfid__max_features': [2000,3000,4000,5000],\n",
    "    'tfid__min_df': [2, 3],\n",
    "    'tfid__max_df': [.8, .85,.9],\n",
    "    'tfid__ngram_range': [(1,1), (1,2)],\n",
    "    'knn__n_neighbors': [10,15],\n",
    "    'knn__p': [1,2]\n",
    "}\n",
    "\n",
    "gs_tfid_knn = GridSearchCV(tfid_knn, # what object are we optimizing?\n",
    "                  param_grid=pipe_params, # what parameters values are we searching?\n",
    "                  cv=5) # 5-fold cross-validation.\n",
    "\n",
    "gs_tfid_knn.fit(clean_train_text, y_train);"
   ]
  },
  {
   "cell_type": "markdown",
   "metadata": {},
   "source": [
    "### 5.3.2 TFIDVectorizer MultinomialNB\n",
    "- MultinomialNB is the best choice here, as the X Variables are all integer counts"
   ]
  },
  {
   "cell_type": "code",
   "execution_count": 57,
   "metadata": {},
   "outputs": [],
   "source": [
    "# Setting pipeline for two stages\n",
    "tfid_nb = Pipeline([\n",
    "    ('tfid', TfidfVectorizer()),\n",
    "    ('nb', MultinomialNB())\n",
    "])\n",
    "\n",
    "pipe_params = {\n",
    "    'tfid__max_features': [2000,3000,4000,5000],\n",
    "    'tfid__min_df': [2, 3],\n",
    "    'tfid__max_df': [.8, .85,.9],\n",
    "    'tfid__ngram_range': [(1,1), (1,2)],\n",
    "    'nb__alpha': list(np.linspace(0.1,1,10))\n",
    "}\n",
    "\n",
    "gs_tfid_nb = GridSearchCV(tfid_nb, # what object are we optimizing?\n",
    "                  param_grid=pipe_params, # what parameters values are we searching?\n",
    "                  cv=5) # 5-fold cross-validation.\n",
    "\n",
    "gs_tfid_nb.fit(clean_train_text, y_train);"
   ]
  },
  {
   "cell_type": "markdown",
   "metadata": {},
   "source": [
    "### 5.3.3 ROC AUC Plot (Model)"
   ]
  },
  {
   "cell_type": "code",
   "execution_count": 67,
   "metadata": {},
   "outputs": [
    {
     "data": {
      "image/png": "[encoded data removed]",
      "text/plain": [
       "<Figure size 432x288 with 1 Axes>"
      ]
     },
     "metadata": {
      "needs_background": "light"
     },
     "output_type": "display_data"
    }
   ],
   "source": [
    "tfid_lr_disp = plot_roc_curve(gs_tfid_lr, clean_test_text, y_test, name = 'TFID LR')\n",
    "tfid_knn_disp = plot_roc_curve(gs_tfid_knn, clean_test_text, y_test, name = 'TFID KNN', ax = tfid_lr_disp.ax_)\n",
    "tfid_nb_disp = plot_roc_curve(gs_tfid_nb, clean_test_text, y_test, name = 'TFID NB', ax = tfid_lr_disp.ax_);"
   ]
  },
  {
   "cell_type": "markdown",
   "metadata": {},
   "source": [
    "#### 5.3.3 comments:\n",
    "TFIDVectozier with LogisticRegression seems to provide the best AUC score"
   ]
  },
  {
   "cell_type": "markdown",
   "metadata": {},
   "source": [
    "## 5.4 Confusion Matrix"
   ]
  },
  {
   "cell_type": "code",
   "execution_count": 75,
   "metadata": {},
   "outputs": [
    {
     "data": {
      "text/plain": [
       "Pipeline(steps=[('tfid',\n",
       "                 TfidfVectorizer(max_df=0.8, max_features=2000, min_df=3)),\n",
       "                ('lr', LogisticRegression(max_iter=5000))])"
      ]
     },
     "execution_count": 75,
     "metadata": {},
     "output_type": "execute_result"
    }
   ],
   "source": [
    "#check best estimator for best performing model\n",
    "gs_tfid_lr.best_estimator_"
   ]
  },
  {
   "cell_type": "code",
   "execution_count": 42,
   "metadata": {},
   "outputs": [],
   "source": [
    "# Using the best model\n",
    "predictions = gs_tfid_lr.predict(clean_test_text)"
   ]
  },
  {
   "cell_type": "code",
   "execution_count": 43,
   "metadata": {},
   "outputs": [
    {
     "name": "stdout",
     "output_type": "stream",
     "text": [
      "True Negatives: 159\n",
      "False Positives: 29\n",
      "False Negatives: 20\n",
      "True Positives: 179\n",
      "Specificity: 0.8457\n",
      "Sensitivity: 0.8995\n"
     ]
    }
   ],
   "source": [
    "tn, fp, fn, tp = confusion_matrix(y_test, predictions).ravel()\n",
    "\n",
    "print(\"True Negatives: %s\" % tn)\n",
    "print(\"False Positives: %s\" % fp)\n",
    "print(\"False Negatives: %s\" % fn)\n",
    "print(\"True Positives: %s\" % tp)\n",
    "print(f'Specificity: {round(tn / (tn + fp),4)}')\n",
    "print(f'Sensitivity: {round(tp / (tp + fn),4)}')"
   ]
  },
  {
   "cell_type": "code",
   "execution_count": 69,
   "metadata": {},
   "outputs": [
    {
     "name": "stdout",
     "output_type": "stream",
     "text": [
      "Best Model train score: 0.8576970456206284\n",
      "Best Model test score: 0.8733850129198967\n"
     ]
    }
   ],
   "source": [
    "print(f'Best Model train score: {gs_tfid_lr.best_score_}')\n",
    "print(f'Best Model test score: {gs_tfid_lr.score(clean_test_text, y_test)}')"
   ]
  },
  {
   "cell_type": "markdown",
   "metadata": {},
   "source": [
    "R2 score of model for both train and test data is very close, suggesting the overfitting issue is resolved"
   ]
  },
  {
   "cell_type": "code",
   "execution_count": null,
   "metadata": {},
   "outputs": [],
   "source": []
  }
 ],
 "metadata": {
  "kernelspec": {
   "display_name": "Python 3",
   "language": "python",
   "name": "python3"
  },
  "language_info": {
   "codemirror_mode": {
    "name": "ipython",
    "version": 3
   },
   "file_extension": ".py",
   "mimetype": "text/x-python",
   "name": "python",
   "nbconvert_exporter": "python",
   "pygments_lexer": "ipython3",
   "version": "3.7.7"
  },
  "toc": {
   "base_numbering": 1,
   "nav_menu": {},
   "number_sections": false,
   "sideBar": true,
   "skip_h1_title": false,
   "title_cell": "Table of Contents",
   "title_sidebar": "Contents",
   "toc_cell": false,
   "toc_position": {},
   "toc_section_display": true,
   "toc_window_display": true
  }
 },
 "nbformat": 4,
 "nbformat_minor": 4
}
